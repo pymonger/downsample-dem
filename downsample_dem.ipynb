{
 "cells": [
  {
   "cell_type": "markdown",
   "id": "851d950a-2c4b-4ec5-9299-213419086f6e",
   "metadata": {},
   "source": [
    " # Downsampling a Copernicus 30m DEM"
   ]
  },
  {
   "cell_type": "markdown",
   "id": "c6110b00-dc5f-4c15-9d02-a5a0918f6ebb",
   "metadata": {},
   "source": [
    "This notebook serves as an example of how to parameterize a notebook so that it can be called on the command-line via `papermill` with custom inputs specified. It also exercises the basic features of an actual science algorithm notebook in that it:\n",
    "\n",
    "1. simulates a CPU and memory intensive algorithm by running stress-ng (for a random amount of time between `min_stress_time` and `max_stress_time`)\n",
    "1. creates a representative output dataset by using `gdalwarp` to downsample the input dataset\n",
    "1. creates a browse image from the output dataset by using `convert` to further downsample the output and convert it to a png\n",
    "1. creates a JSON metadata file extracted from the output product\n",
    "1. aggregates all 3 of these ouputs files into an output dataset directory representative of the output of this notebook "
   ]
  },
  {
   "cell_type": "markdown",
   "id": "cce878a5-cd5c-47ed-b340-7cc396ed2739",
   "metadata": {},
   "source": [
    "This first cell holds the input variables that we want to expose as papermill parameters. The cell needs to be tagged with `parameters` in order for papermill to recognize them."
   ]
  },
  {
   "cell_type": "code",
   "execution_count": null,
   "id": "7c8d899b-1267-40b5-ac67-e44b7e01c074",
   "metadata": {
    "tags": [
     "parameters"
    ]
   },
   "outputs": [],
   "source": [
    "# this file should already exist (see `stage_in.ipynb`)\n",
    "input_file = \"inputs/Copernicus_DSM_COG_10_N21_00_W159_00_DEM.tif\"\n",
    "\n",
    "# stress-ng timeout bounds\n",
    "min_stress_time = 15\n",
    "max_stress_time = 30"
   ]
  },
  {
   "cell_type": "markdown",
   "id": "5fb50850-2736-4693-9f11-f0f730bd056b",
   "metadata": {},
   "source": [
    "This next cell determines the output product id to use and randomly determines the amount of time to run stress-ng to simulate a CPU and memory-heavy algorithm."
   ]
  },
  {
   "cell_type": "code",
   "execution_count": null,
   "id": "0fd402c2-cdf4-4fb6-af51-cee93d77e8af",
   "metadata": {
    "tags": []
   },
   "outputs": [],
   "source": [
    "import os, random\n",
    "\n",
    "# create outputs directory\n",
    "outputs_dir = \"outputs\"\n",
    "if not os.path.isdir(outputs_dir):\n",
    "    os.makedirs(outputs_dir)\n",
    "\n",
    "# determine product id for output product\n",
    "dataset_id = os.path.splitext(os.path.basename(input_file))[0] + \"_downsampled\"\n",
    "\n",
    "# get amount of time to run stress-ng\n",
    "stress_time = random.randint(int(min_stress_time), int(max_stress_time))\n",
    "print(f\"Running stress-ng for {stress_time} seconds...\")"
   ]
  },
  {
   "cell_type": "markdown",
   "id": "61594017-ed6c-45f3-978b-a8d2cd34f454",
   "metadata": {},
   "source": [
    "Here we run stress-ng. If you have access to the host running it, see the resource utilization with `top` or `htop`."
   ]
  },
  {
   "cell_type": "code",
   "execution_count": null,
   "id": "beb1c53b-eeee-45ad-a5be-8d8469a0e714",
   "metadata": {},
   "outputs": [],
   "source": [
    "%%bash -s \"$stress_time\"\n",
    "stress-ng --cpu 32 --vm 32 --vm-bytes 80% --vm-method all --verify -t ${1}s -v"
   ]
  },
  {
   "cell_type": "markdown",
   "id": "8d471f40-9117-41a0-a07c-107abd39fd8f",
   "metadata": {},
   "source": [
    "Finally we create the output product directory, downsample the input file to our output product file, generate the browse image from the output product file, and extract the metadata of our output product file to a JSON file."
   ]
  },
  {
   "cell_type": "code",
   "execution_count": null,
   "id": "6d98fb25-e859-464e-8877-6d41f2864d9f",
   "metadata": {},
   "outputs": [],
   "source": [
    "%%bash -s \"$dataset_id\" \"$input_file\" \"$outputs_dir\"\n",
    "\n",
    "# create output product directory\n",
    "mkdir $3/$1\n",
    "\n",
    "# created downsampled GeoTIFF\n",
    "gdalwarp -ts 1200 0 $2 $3/$1/$1.tif\n",
    "\n",
    "# create browse image\n",
    "convert -resize 250x250 $3/$1/$1.tif $3/$1/$1.browse.png\n",
    "\n",
    "# create metadata file\n",
    "gdalinfo $3/$1/$1.tif -json > $3/$1/$1.met.json"
   ]
  },
  {
   "cell_type": "markdown",
   "id": "6670de01-4e2d-4801-9ad6-83e7311b5389",
   "metadata": {},
   "source": [
    "You should now have an output product directory:"
   ]
  },
  {
   "cell_type": "code",
   "execution_count": null,
   "id": "b98c80d9-ddab-48c1-8a05-75508ea9a020",
   "metadata": {},
   "outputs": [],
   "source": [
    "print(f\"Your output product directory is {outputs_dir}/{dataset_id}\")"
   ]
  },
  {
   "cell_type": "markdown",
   "id": "7fded595",
   "metadata": {},
   "source": [
    "and to match on this output product directory you can either:\n",
    "\n",
    "1. utilize the following glob pattern: \"outputs/*_downsampled\"\n",
    "2. utilize the following regex pattern: r'^outputs/\\w+_downsampled'"
   ]
  }
 ],
 "metadata": {
  "kernelspec": {
   "display_name": "Python 3 (ipykernel)",
   "language": "python",
   "name": "python3"
  },
  "language_info": {
   "codemirror_mode": {
    "name": "ipython",
    "version": 3
   },
   "file_extension": ".py",
   "mimetype": "text/x-python",
   "name": "python",
   "nbconvert_exporter": "python",
   "pygments_lexer": "ipython3",
   "version": "3.7.12"
  },
  "toc-autonumbering": true,
  "toc-showcode": false,
  "toc-showmarkdowntxt": false,
  "toc-showtags": true
 },
 "nbformat": 4,
 "nbformat_minor": 5
}
