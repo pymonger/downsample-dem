{
 "cells": [
  {
   "cell_type": "markdown",
   "id": "851d950a-2c4b-4ec5-9299-213419086f6e",
   "metadata": {},
   "source": [
    " # Downloading a Copernicus DEM"
   ]
  },
  {
   "cell_type": "markdown",
   "id": "c6110b00-dc5f-4c15-9d02-a5a0918f6ebb",
   "metadata": {},
   "source": [
    "This notebook serves as an example of how to parameterize a notebook so that it can be called on the command-line via `papermill` with custom inputs specified. This notebook:\n",
    "\n",
    "1. downloads an input dataset; in this case, a Copernicus DEM GeoTIFF from the Open Dataset hosted at AWS (https://registry.opendata.aws/copernicus-dem/)."
   ]
  },
  {
   "cell_type": "markdown",
   "id": "cce878a5-cd5c-47ed-b340-7cc396ed2739",
   "metadata": {},
   "source": [
    "This first cell holds the input variables that we want to expose as papermill parameters. The cell needs to be tagged with `parameters` in order for papermill to recognize them."
   ]
  },
  {
   "cell_type": "code",
   "execution_count": null,
   "id": "7c8d899b-1267-40b5-ac67-e44b7e01c074",
   "metadata": {
    "tags": [
     "parameters"
    ]
   },
   "outputs": [],
   "source": [
    "input_url = \"s3://copernicus-dem-30m/Copernicus_DSM_COG_10_N21_00_W159_00_DEM/Copernicus_DSM_COG_10_N21_00_W159_00_DEM.tif\""
   ]
  },
  {
   "cell_type": "markdown",
   "id": "5fb50850-2736-4693-9f11-f0f730bd056b",
   "metadata": {},
   "source": [
    "This next cell downloads the input file."
   ]
  },
  {
   "cell_type": "code",
   "execution_count": null,
   "id": "0fd402c2-cdf4-4fb6-af51-cee93d77e8af",
   "metadata": {
    "tags": []
   },
   "outputs": [],
   "source": [
    "import os, random\n",
    "import boto3\n",
    "from botocore import UNSIGNED\n",
    "from botocore.config import Config\n",
    "from urllib.parse import urlparse\n",
    "\n",
    "# create inputs directory\n",
    "inputs_dir = \"inputs\"\n",
    "if not os.path.isdir(inputs_dir):\n",
    "    os.makedirs(inputs_dir)\n",
    "\n",
    "# parse url\n",
    "p = urlparse(input_url)\n",
    "\n",
    "# download input file\n",
    "input_file = os.path.join(inputs_dir, os.path.basename(p.path))\n",
    "s3 = boto3.client(\"s3\", config=Config(signature_version=UNSIGNED))\n",
    "s3.download_file(p.netloc, p.path[1:], input_file)"
   ]
  },
  {
   "cell_type": "markdown",
   "id": "6670de01-4e2d-4801-9ad6-83e7311b5389",
   "metadata": {},
   "source": [
    "You should now have the Copernicus DEM in the current working directory:"
   ]
  },
  {
   "cell_type": "code",
   "execution_count": null,
   "id": "b98c80d9-ddab-48c1-8a05-75508ea9a020",
   "metadata": {},
   "outputs": [],
   "source": [
    "print(f\"Your Copernicus DEM is {input_file}\")"
   ]
  },
  {
   "cell_type": "markdown",
   "id": "7fded595",
   "metadata": {},
   "source": [
    "and to match on this file you can either:\n",
    "\n",
    "1. utilize the following glob pattern: \"*.tif\"\n",
    "2. utilize the following regex pattern: r'^\\w+\\.tif$'"
   ]
  }
 ],
 "metadata": {
  "kernelspec": {
   "display_name": "Python 3 (ipykernel)",
   "language": "python",
   "name": "python3"
  },
  "language_info": {
   "codemirror_mode": {
    "name": "ipython",
    "version": 3
   },
   "file_extension": ".py",
   "mimetype": "text/x-python",
   "name": "python",
   "nbconvert_exporter": "python",
   "pygments_lexer": "ipython3",
   "version": "3.7.12"
  },
  "toc-autonumbering": true,
  "toc-showcode": false,
  "toc-showmarkdowntxt": false,
  "toc-showtags": true
 },
 "nbformat": 4,
 "nbformat_minor": 5
}
